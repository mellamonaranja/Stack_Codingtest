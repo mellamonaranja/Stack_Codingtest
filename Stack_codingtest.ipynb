{
 "cells": [
  {
   "cell_type": "markdown",
   "metadata": {},
   "source": [
    "Question 1: Remove All Adjacent Duplicates In String, by Facebook, Amazon, Bloomberg, Oracle\n",
    "- Given a string S of lowercase letters, a duplicate removal consists of choosing two adjacent and equal letters, and removing them.\n",
    "- We repeatedly make duplicate removals on S until we no longer can.\n",
    "- Return the final string after all such duplicate removals have been made. It is guaranteed the answer is unique."
   ]
  },
  {
   "cell_type": "code",
   "execution_count": 9,
   "metadata": {},
   "outputs": [
    {
     "name": "stdout",
     "output_type": "stream",
     "text": [
      "\n",
      "ca\n"
     ]
    }
   ],
   "source": [
    "def removeDuplicates(letters=''):\n",
    "    stack=[]\n",
    "    for i in letters:\n",
    "        if stack and i==stack[-1]:\n",
    "            stack.pop()\n",
    "        else:\n",
    "            stack.append(i)\n",
    "    return ''.join(stack)\n",
    "\n",
    "print(removeDuplicates())\n",
    "print(removeDuplicates(\"abbaca\"))"
   ]
  },
  {
   "cell_type": "markdown",
   "metadata": {},
   "source": [
    "Question 2: Make The String Great, by Google\n",
    "- Given a string s of lower and upper case English letters.\n",
    "- A good string is a string which doesn’t have two adjacent characters s[i] and s[i + 1] where: 0 <= i <= s.length-2\n",
    "- s[i] is a lower-case letter and s[i + 1] is the same letter but in upper-case or vice-versa.\n",
    "- To make the string good, you can choose two adjacent characters that make the string bad and remove them. You can keep doing this until the string becomes good.\n",
    "- Return the string after making it good. The answer is guaranteed to be unique under the given constraints.\n",
    "- Notice that an empty string is also good."
   ]
  },
  {
   "cell_type": "code",
   "execution_count": 10,
   "metadata": {},
   "outputs": [
    {
     "data": {
      "text/plain": [
       "'leetcode'"
      ]
     },
     "execution_count": 10,
     "metadata": {},
     "output_type": "execute_result"
    }
   ],
   "source": [
    "def makeGood(letter=''):\n",
    "    stack=[]\n",
    "    for i in letter:\n",
    "        if stack and stack[-1]==i.swapcase():\n",
    "            stack.pop()\n",
    "        else:\n",
    "            stack.append(i)\n",
    "    return ''.join(stack)\n",
    "\n",
    "letter='leEeetcode'\n",
    "makeGood(letter)"
   ]
  },
  {
   "cell_type": "markdown",
   "metadata": {},
   "source": [
    "Question 3: Build an Array With Stack Operations, by Google\n",
    "- Given an array target and an integer n. In each iteration, you will read a number from list = {1,2,3…, n}.\n",
    "- Build the target array using the following operations:\n",
    "— Push: Read a new element from the beginning list, and push it in the array.\n",
    "— Pop: delete the last element of the array.\n",
    "— If the target array is already built, stop reading more elements.\n",
    "- Return the operations to build the target array. You are guaranteed that the answer is unique."
   ]
  },
  {
   "cell_type": "code",
   "execution_count": 11,
   "metadata": {},
   "outputs": [
    {
     "data": {
      "text/plain": [
       "['push', 'pop', 'push']"
      ]
     },
     "execution_count": 11,
     "metadata": {},
     "output_type": "execute_result"
    }
   ],
   "source": [
    "def buildArray(target, n):\n",
    "    result=[]\n",
    "    for i in range(1,n+1):\n",
    "        if i in target:\n",
    "            result.append('push')\n",
    "        else:\n",
    "            result.append('pop')\n",
    "    return result \n",
    "\n",
    "buildArray([1,3], 3)      "
   ]
  },
  {
   "cell_type": "markdown",
   "metadata": {},
   "source": [
    "Question 4: Baseball Game, by Amazon\n",
    "- You are keeping score for a baseball game with strange rules. The game consists of several rounds, where the scores of past rounds may affect future rounds’ scores.\n",
    "- At the beginning of the game, you start with an empty record. You are given a list of strings ops, where ops[i] is the ith operation you must apply to the record and is one of the following:\n",
    "- An integer x — Record a new score of x.\n",
    "— “+” — Record a new score that is the sum of the previous two scores. It is guaranteed there will always be two previous scores.\n",
    "— “D” — Record a new score that is double the previous score. It is guaranteed there will always be a previous score.\n",
    "— “C” — Invalidate the previous score, removing it from the record. It is guaranteed there will always be a previous score.\n",
    "- Return the sum of all the scores on the record."
   ]
  },
  {
   "cell_type": "code",
   "execution_count": null,
   "metadata": {},
   "outputs": [],
   "source": [
    "def baseball(ops=[]):\n",
    "    stack=[]\n",
    "    for i in ops:\n",
    "        if i=='+':\n",
    "            stack.append(stack[-2]+stack[-1])\n",
    "        elif i=='C':\n",
    "            stack.pop()\n",
    "        elif i=='D':\n",
    "            stack.append(stack[-1]*2)\n",
    "        else:\n",
    "            stack.append(int(i))\n",
    "    return sum(stack)\n",
    "    \n",
    "baseball([\"5\",\"2\",\"C\",\"D\",\"+\"])"
   ]
  },
  {
   "cell_type": "markdown",
   "metadata": {},
   "source": [
    "Question 5: Next Greater Element I, by Amazon and Bloomberg\n",
    "- You are given two integer arrays nums1 and nums2 both of unique elements, where nums1 is a subset of nums2.\n",
    "- Find all the next greater numbers for nums1’s elements in the corresponding places of nums2.\n",
    "- The Next Greater Number of a number x in nums1 is the first greater number to its right in nums2. If it does not exist, return -1 for this number."
   ]
  },
  {
   "cell_type": "code",
   "execution_count": 12,
   "metadata": {},
   "outputs": [
    {
     "data": {
      "text/plain": [
       "[-1, 3, -1]"
      ]
     },
     "execution_count": 12,
     "metadata": {},
     "output_type": "execute_result"
    }
   ],
   "source": [
    "def Next_Greater_Element(nums1, nums2):\n",
    "\n",
    "    n2={}\n",
    "    stack=[]\n",
    "\n",
    "    for k2,v2 in enumerate(nums2):\n",
    "        n2[v2]=k2\n",
    "\n",
    "    for num1 in nums1:\n",
    "        for num2 in range(n2[num1],len(nums2)):\n",
    "            if num1<nums2[num2]:\n",
    "                stack.append(nums2[num2])\n",
    "                break \n",
    "        else:\n",
    "            stack.append(-1)\n",
    "    return stack\n",
    "\n",
    "Next_Greater_Element([4,1,2], [1,3,4,2])"
   ]
  }
 ],
 "metadata": {
  "interpreter": {
   "hash": "d1b552a4d08e4dd51c9997fdf8a589825c1a8bce289c1233a9b7636c916e0bff"
  },
  "kernelspec": {
   "display_name": "Python 3.8.8 64-bit ('anaconda3-2021.05': pyenv)",
   "language": "python",
   "name": "python3"
  },
  "language_info": {
   "codemirror_mode": {
    "name": "ipython",
    "version": 3
   },
   "file_extension": ".py",
   "mimetype": "text/x-python",
   "name": "python",
   "nbconvert_exporter": "python",
   "pygments_lexer": "ipython3",
   "version": "3.8.8"
  },
  "orig_nbformat": 4
 },
 "nbformat": 4,
 "nbformat_minor": 2
}
